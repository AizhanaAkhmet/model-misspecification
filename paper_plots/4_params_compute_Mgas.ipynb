{
 "cells": [
  {
   "cell_type": "markdown",
   "id": "2ea484e5-0d08-4687-89fb-7ee0cda1ec10",
   "metadata": {},
   "source": [
    "## This code computes predicted parameter means and errors using trained compressor and posterior inference networks for CV and test LH sets."
   ]
  },
  {
   "cell_type": "code",
   "execution_count": 1,
   "id": "e7b67d58-a1cf-4235-951e-9aadb596961a",
   "metadata": {},
   "outputs": [
    {
     "name": "stderr",
     "output_type": "stream",
     "text": [
      "/n/home11/aakhmetzhanova/.conda/envs/ccl-env/lib/python3.8/site-packages/tqdm/auto.py:21: TqdmWarning: IProgress not found. Please update jupyter and ipywidgets. See https://ipywidgets.readthedocs.io/en/stable/user_install.html\n",
      "  from .autonotebook import tqdm as notebook_tqdm\n",
      "Failed to detect the name of this notebook, you can set it manually with the WANDB_NOTEBOOK_NAME environment variable to enable code saving.\n",
      "\u001b[34m\u001b[1mwandb\u001b[0m: Currently logged in as: \u001b[33maakhmetzhanova\u001b[0m. Use \u001b[1m`wandb login --relogin`\u001b[0m to force relogin\n"
     ]
    }
   ],
   "source": [
    "import sys\n",
    "from pathlib import Path\n",
    "import numpy as np\n",
    "\n",
    "import torch\n",
    "from torch.utils.data import DataLoader\n",
    "\n",
    "sys.path.append('../')\n",
    "from utils import datasets\n",
    "import utils.resnet_cond as resnet\n",
    "import utils.lightning_flows as LFlows\n",
    "from utils import lightning_flows_density as LFlowsDensity\n"
   ]
  },
  {
   "cell_type": "code",
   "execution_count": 2,
   "id": "8eb1113e-bf73-45ad-bec1-e572dfeefcfb",
   "metadata": {},
   "outputs": [],
   "source": [
    "device = torch.device(\"cuda\" if torch.cuda.is_available() else \"cpu\")\n"
   ]
  },
  {
   "cell_type": "markdown",
   "id": "0ad1428a-9598-492f-8b5a-1fb63204e012",
   "metadata": {},
   "source": [
    "### Load trained models"
   ]
  },
  {
   "cell_type": "code",
   "execution_count": 4,
   "id": "0f01748e-3907-4463-b3fb-1107a8803ae6",
   "metadata": {},
   "outputs": [],
   "source": [
    "field      = 'Mgas'\n",
    "home_dir   = Path(\"/n/netscratch/dvorkin_lab/Lab/aakhmetzhanova/evidence-estimation-Astrid/\") \n",
    "save_dir   = home_dir / f\"trained_models/Maps_{field}/\"\n",
    "\n",
    "\n",
    "# Load summarizer and density estimator.\n",
    "npe_k_cond = False\n",
    "n_params   = 6\n",
    "summary_dim = 40\n",
    "\n",
    "checkpoint = save_dir / f'summarizer_scale_cond_{field}_Astrid/'\n",
    "checkpoint = checkpoint / 'k_conv_lr_1e-4/checkpoints/best_val_loss.ckpt'\n",
    "model      = LFlows.LightningFlowCond.load_from_checkpoint(checkpoint, \n",
    "                                                           device=device,\n",
    "                                                           k_cond='conv',\n",
    "                                                           npe_k_cond=npe_k_cond,\n",
    "                                                           summary_dim=summary_dim, n_params=n_params,\n",
    "                                                           model_name='resnet10t.c3_in1k',)\n",
    "model.summarizer.eval();\n",
    "model.density_estimator.eval();\n",
    "\n",
    "# Smoothing scales\n",
    "k_min, k_max   = 2., 45\n",
    "k_smooth_array = np.logspace(np.log10(k_min), np.log10(k_max), num=10)\n",
    "\n"
   ]
  },
  {
   "cell_type": "code",
   "execution_count": 6,
   "id": "416ff15a-5261-4a2f-b476-f4b02a48b3ca",
   "metadata": {},
   "outputs": [],
   "source": [
    "# Function to compute predicted parameters and error bars \n",
    "def params_errors_pred(maps_set, params_set, \n",
    "                       maps_mean, maps_std,\n",
    "                       k_smooth_array,\n",
    "                       train_frac=0., valid_frac=0., test_frac=1.,\n",
    "                       seed=1, batch_size=100, verbose=True):\n",
    "    params_true_all_scales = []\n",
    "    params_pred_all_scales = []\n",
    "    errors_pred_all_scales = []\n",
    "\n",
    "    for i, k_smooth in enumerate(k_smooth_array):\n",
    "        \n",
    "        params_true = []\n",
    "        params_pred = []\n",
    "        errors_pred = []\n",
    "\n",
    "        _, _, dset = datasets.create_datasets_maps(maps_set, params_set, \n",
    "                                                       train_frac, valid_frac, test_frac, \n",
    "                                                       seed=seed, rotations=False, \n",
    "                                                       smoothing=True, k_smooth=k_smooth,\n",
    "                                                       k_min=k_min, k_max=k_max,\n",
    "                                                       normalize_k=True,\n",
    "                                                       linear=False, log_scale=True, \n",
    "                                                       standardize=True, \n",
    "                                                       maps_mean=maps_mean, maps_std=maps_std,)\n",
    "        dataloader  = DataLoader(dset, batch_size, shuffle = False, )\n",
    "\n",
    "        for maps_test, params_test, k_test in dataloader:\n",
    "            with torch.no_grad():\n",
    "                maps_test    = maps_test.float().to(device=device)\n",
    "                params_test  = params_test.float().to(device=device)\n",
    "                k_test       = k_test.float().to(device=device)\n",
    "                bs           = maps_test.shape[0]\n",
    "\n",
    "                summaries    = model.summarizer([maps_test, k_test])\n",
    "                if npe_k_cond:\n",
    "                    summaries    = torch.cat((summaries, k_test), dim=1)\n",
    "\n",
    "                params_samples = model.density_estimator(summaries).sample((5_000,))\n",
    "                params_samples = params_samples.detach().cpu().numpy()\n",
    "                params_samples = params_samples*(maximum[None, None, :] - minimum[None, None, :])/2 + (minimum[None, None, :]+maximum[None, None, :])/2  \n",
    "                \n",
    "                # undo the normalization on the parameters\n",
    "                params_test = params_test.detach().cpu().numpy()\n",
    "                params_test = params_test*(maximum[None, :] - minimum[None, :])/2 + (minimum[None, :]+maximum[None, :])/2  \n",
    "                \n",
    "                params_true.append(params_test)\n",
    "                params_pred.append(params_samples.mean(axis=0))\n",
    "                errors_pred.append(params_samples.std(axis=0))\n",
    "\n",
    "        params_true = np.concatenate(params_true, axis=0)\n",
    "        params_pred = np.concatenate(params_pred, axis=0)\n",
    "        errors_pred = np.concatenate(errors_pred, axis=0)\n",
    "    \n",
    "        params_true_all_scales.append(params_true)\n",
    "        params_pred_all_scales.append(params_pred)\n",
    "        errors_pred_all_scales.append(errors_pred)\n",
    "        \n",
    "    params_true_all_scales = np.array(params_true_all_scales)\n",
    "    params_pred_all_scales = np.array(params_pred_all_scales)\n",
    "    errors_pred_all_scales = np.array(errors_pred_all_scales)\n",
    "\n",
    "    return params_true_all_scales, params_pred_all_scales, errors_pred_all_scales\n",
    "    \n",
    "    "
   ]
  },
  {
   "cell_type": "markdown",
   "id": "68c5afca-1db5-4060-bb12-19ac34628032",
   "metadata": {},
   "source": [
    "## CV set"
   ]
  },
  {
   "cell_type": "code",
   "execution_count": 7,
   "id": "dd1f0046-3dba-44b2-abf1-c7659ef57eab",
   "metadata": {},
   "outputs": [],
   "source": [
    "# Load CV maps for all suites.\n",
    "minimum = np.array([0.1, 0.6, 0.25, 0.25, 0.5, 0.5])[:n_params] \n",
    "maximum = np.array([0.5, 1.0, 4.00, 4.00, 2.0, 2.0])[:n_params] \n",
    "\n",
    "splits    = 15\n",
    "grid      = 256\n",
    "\n",
    "set_name = 'CV' \n",
    "params_S  = np.loadtxt(home_dir / f'data/params_{set_name}_SIMBA.txt',)[:, :n_params] \n",
    "params_S  = (params_S - (minimum+maximum)/2)/((maximum - minimum)/2)   # rescale parameters\n",
    "params_S  = np.repeat(params_S[:, None, :], splits, axis = 1) # reshape the parameters to match the shape of the maps\n",
    "\n",
    "params_I   = np.loadtxt(home_dir / f'data/params_{set_name}_IllustrisTNG.txt',)[:, :n_params] \n",
    "params_I  = (params_I - (minimum+maximum)/2)/((maximum - minimum)/2)   # rescale parameters\n",
    "params_I  = np.repeat(params_I[:, None, :], splits, axis = 1) # reshape the parameters to match the shape of the maps\n",
    "\n",
    "params_A   = np.loadtxt(home_dir / f'data/params_{set_name}_Astrid.txt',)[:, :n_params]\n",
    "params_A  = (params_A - (minimum+maximum)/2)/((maximum - minimum)/2)   # rescale parameters\n",
    "params_A  = np.repeat(params_A[:, None, :], splits, axis = 1) # reshape the parameters to match the shape of the maps\n",
    "\n",
    "\n",
    "dset_size = params_S.shape[0]\n",
    "maps_S    = np.load(home_dir / f'data/2D/Maps_{field}_SIMBA_{set_name}_z=0.00.npy').reshape(dset_size, -1, 1, grid, grid)[:, :splits]\n",
    "maps_I    = np.load(home_dir / f'data/2D/Maps_{field}_IllustrisTNG_{set_name}_z=0.00.npy').reshape(dset_size, -1, 1, grid, grid)[:, :splits] #+'data/3D/Pk_m_IllustrisTNG_CV.npy')[:, k_idx, 1]\n",
    "maps_A    = np.load(home_dir / f'data/2D/Maps_{field}_Astrid_{set_name}_z=0.00.npy').reshape(dset_size, -1, 1, grid, grid)[:, :splits] #+'data/3D/Pk_m_Astrid_CV.npy')[:, k_idx, 1]\n",
    "\n",
    "# Normalization constants\n",
    "maps_LH    = np.load(home_dir  / f'data/2D/Maps_{field}_Astrid_LH_z=0.00.npy').reshape(1000, -1, 1, grid, grid)[:, :splits]\n",
    "maps_mean, maps_std = np.log10(maps_LH).mean(), np.log10(maps_LH).std()\n",
    "\n"
   ]
  },
  {
   "cell_type": "code",
   "execution_count": null,
   "id": "e03fe8b2-a446-4c15-9bc5-12895d923689",
   "metadata": {},
   "outputs": [],
   "source": [
    "params_true_I, params_pred_I, errors_pred_I = params_errors_pred(maps_I, params_I, \n",
    "                                                  maps_mean, maps_std,\n",
    "                                                  k_smooth_array,)\n",
    "params_true_S, params_pred_S, errors_pred_S = params_errors_pred(maps_S, params_S, \n",
    "                                                  maps_mean, maps_std,\n",
    "                                                  k_smooth_array,)\n",
    "params_true_A, params_pred_A, errors_pred_A = params_errors_pred(maps_A, params_A, \n",
    "                                                  maps_mean, maps_std,\n",
    "                                                  k_smooth_array,)\n",
    "\n",
    "results_dir = Path(\"results/\")\n",
    "\n",
    "np.save(results_dir / f'{field}_params_IllustrisTNG_CV.npy', \n",
    "       [params_true_I, params_pred_I, errors_pred_I])\n",
    "np.save(results_dir / f'{field}_params_SIMBA_CV.npy', \n",
    "       [params_true_S, params_pred_S, errors_pred_S])\n",
    "np.save(results_dir / f'{field}_params_Astrid_CV.npy', \n",
    "       [params_true_A, params_pred_A, errors_pred_A])"
   ]
  },
  {
   "cell_type": "markdown",
   "id": "bb1498ac-e63f-443d-8576-4fd099b85729",
   "metadata": {},
   "source": [
    "## LH test set"
   ]
  },
  {
   "cell_type": "code",
   "execution_count": 9,
   "id": "b3760678-67f3-4835-9cd2-710dc6a5e694",
   "metadata": {},
   "outputs": [],
   "source": [
    "# load all LH maps\n",
    "minimum = np.array([0.1, 0.6, 0.25, 0.25, 0.5, 0.5])[:n_params] \n",
    "maximum = np.array([0.5, 1.0, 4.00, 4.00, 2.0, 2.0])[:n_params] \n",
    "\n",
    "splits    = 15\n",
    "grid      = 256\n",
    "\n",
    "set_name = 'LH' \n",
    "params_S  = np.loadtxt(home_dir / f'data/params_{set_name}_SIMBA.txt',)[:, :n_params] \n",
    "params_S  = (params_S - (minimum+maximum)/2)/((maximum - minimum)/2)   # rescale parameters\n",
    "params_S  = np.repeat(params_S[:, None, :], splits, axis = 1) # reshape the parameters to match the shape of the maps\n",
    "\n",
    "params_I   = np.loadtxt(home_dir / f'data/params_{set_name}_IllustrisTNG.txt',)[:, :n_params] \n",
    "params_I  = (params_I - (minimum+maximum)/2)/((maximum - minimum)/2)   # rescale parameters\n",
    "params_I  = np.repeat(params_I[:, None, :], splits, axis = 1) # reshape the parameters to match the shape of the maps\n",
    "\n",
    "params_A   = np.loadtxt(home_dir / f'data/params_{set_name}_Astrid.txt',)[:, :n_params]\n",
    "params_A  = (params_A - (minimum+maximum)/2)/((maximum - minimum)/2)   # rescale parameters\n",
    "params_A  = np.repeat(params_A[:, None, :], splits, axis = 1) # reshape the parameters to match the shape of the maps\n",
    "\n",
    "\n",
    "dset_size = params_S.shape[0]\n",
    "maps_S    = np.load(home_dir / f'data/2D/Maps_{field}_SIMBA_{set_name}_z=0.00.npy').reshape(dset_size, -1, 1, grid, grid)[:, :splits]\n",
    "maps_I    = np.load(home_dir / f'data/2D/Maps_{field}_IllustrisTNG_{set_name}_z=0.00.npy').reshape(dset_size, -1, 1, grid, grid)[:, :splits] #+'data/3D/Pk_m_IllustrisTNG_CV.npy')[:, k_idx, 1]\n",
    "maps_A    = np.load(home_dir / f'data/2D/Maps_{field}_Astrid_{set_name}_z=0.00.npy').reshape(dset_size, -1, 1, grid, grid)[:, :splits] #+'data/3D/Pk_m_Astrid_CV.npy')[:, k_idx, 1]\n",
    "\n",
    "# Normalization constants\n",
    "maps_LH    = np.load(home_dir  / f'data/2D/Maps_{field}_Astrid_LH_z=0.00.npy').reshape(1000, -1, 1, grid, grid)[:, :splits]\n",
    "maps_mean, maps_std = np.log10(maps_LH).mean(), np.log10(maps_LH).std()\n",
    "\n"
   ]
  },
  {
   "cell_type": "code",
   "execution_count": null,
   "id": "39113c74-a79d-4fe7-97aa-3ee2bc305c7a",
   "metadata": {},
   "outputs": [],
   "source": [
    "train_frac, valid_frac, test_frac = 0.9, 0.05, 0.05\n",
    "\n",
    "params_true_I, params_pred_I, errors_pred_I = params_errors_pred(maps_I, params_I, \n",
    "                                                  maps_mean, maps_std,\n",
    "                                                  k_smooth_array,\n",
    "                                                  train_frac, valid_frac, test_frac)\n",
    "params_true_S, params_pred_S, errors_pred_S = params_errors_pred(maps_S, params_S, \n",
    "                                                  maps_mean, maps_std,\n",
    "                                                  k_smooth_array,\n",
    "                                                  train_frac, valid_frac, test_frac)\n",
    "params_true_A, params_pred_A, errors_pred_A = params_errors_pred(maps_A, params_A, \n",
    "                                                  maps_mean, maps_std,\n",
    "                                                  k_smooth_array,\n",
    "                                                  train_frac, valid_frac, test_frac)\n",
    "results_dir = Path(\"results/\")\n",
    "\n",
    "np.save(results_dir / f'{field}_params_IllustrisTNG_LH_test.npy', \n",
    "       [params_true_I, params_pred_I, errors_pred_I])\n",
    "np.save(results_dir / f'{field}_params_SIMBA_LH_test.npy', \n",
    "       [params_true_S, params_pred_S, errors_pred_S])\n",
    "np.save(results_dir / f'{field}_params_Astrid_LH_test.npy', \n",
    "       [params_true_A, params_pred_A, errors_pred_A])"
   ]
  },
  {
   "cell_type": "code",
   "execution_count": null,
   "id": "2f898330-8e32-49d4-869b-76afc631b40d",
   "metadata": {},
   "outputs": [],
   "source": []
  },
  {
   "cell_type": "code",
   "execution_count": null,
   "id": "509cf42e-48d6-404a-a007-a204874cbbaf",
   "metadata": {},
   "outputs": [],
   "source": []
  }
 ],
 "metadata": {
  "kernelspec": {
   "display_name": "ccl-env",
   "language": "python",
   "name": "ccl-env"
  },
  "language_info": {
   "codemirror_mode": {
    "name": "ipython",
    "version": 3
   },
   "file_extension": ".py",
   "mimetype": "text/x-python",
   "name": "python",
   "nbconvert_exporter": "python",
   "pygments_lexer": "ipython3",
   "version": "3.8.18"
  }
 },
 "nbformat": 4,
 "nbformat_minor": 5
}
